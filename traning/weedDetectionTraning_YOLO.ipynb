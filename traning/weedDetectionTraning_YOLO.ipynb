{
  "nbformat": 4,
  "nbformat_minor": 0,
  "metadata": {
    "colab": {
      "name": "weedDetectionTraning-YOLO",
      "provenance": [],
      "collapsed_sections": []
    },
    "kernelspec": {
      "name": "python3",
      "display_name": "Python 3"
    },
    "accelerator": "GPU"
  },
  "cells": [
    {
      "cell_type": "markdown",
      "metadata": {
        "id": "iIkBVlu5VL0M"
      },
      "source": [
        "#Weed Detection using YOLO - V3 \n",
        "\n",
        "\n",
        "---\n",
        "\n",
        "\n",
        "\n",
        "\n"
      ]
    },
    {
      "cell_type": "markdown",
      "metadata": {
        "id": "AFsF7jpRisM1"
      },
      "source": [
        "## setting up environment"
      ]
    },
    {
      "cell_type": "code",
      "metadata": {
        "id": "fNtyDyTKwGDZ"
      },
      "source": [
        "# clone darknet repo\n",
        "!git clone https://github.com/AlexeyAB/darknet"
      ],
      "execution_count": null,
      "outputs": []
    },
    {
      "cell_type": "code",
      "metadata": {
        "id": "kFTCw10iwRnI"
      },
      "source": [
        "# change makefile to have GPU and OPENCV enabled\n",
        "%cd darknet\n",
        "!sed -i 's/OPENCV=0/OPENCV=1/' Makefile\n",
        "!sed -i 's/GPU=0/GPU=1/' Makefile\n",
        "!sed -i 's/CUDNN=0/CUDNN=1/' Makefile"
      ],
      "execution_count": null,
      "outputs": []
    },
    {
      "cell_type": "code",
      "metadata": {
        "id": "H7YikJXhwZSg"
      },
      "source": [
        "# verify CUDA\n",
        "!/usr/local/cuda/bin/nvcc --version"
      ],
      "execution_count": null,
      "outputs": []
    },
    {
      "cell_type": "code",
      "metadata": {
        "id": "urXJ6AWBwn8N"
      },
      "source": [
        "# make darknet (build)\n",
        "!make"
      ],
      "execution_count": null,
      "outputs": []
    },
    {
      "cell_type": "code",
      "metadata": {
        "id": "kD2FoAmywriv"
      },
      "source": [
        "# define helper functions\n",
        "def imShow(path):\n",
        "  import cv2\n",
        "  import matplotlib.pyplot as plt\n",
        "  %matplotlib inline\n",
        "\n",
        "  image = cv2.imread(path)\n",
        "  height, width = image.shape[:2]\n",
        "  resized_image = cv2.resize(image,(3*width, 3*height), interpolation = cv2.INTER_CUBIC)\n",
        "\n",
        "  fig = plt.gcf()\n",
        "  fig.set_size_inches(18, 10)\n",
        "  plt.axis(\"off\")\n",
        "  plt.imshow(cv2.cvtColor(resized_image, cv2.COLOR_BGR2RGB))\n",
        "  plt.show()\n",
        "\n",
        "# use this to upload files\n",
        "def upload():\n",
        "  from google.colab import files\n",
        "  uploaded = files.upload() \n",
        "  for name, data in uploaded.items():\n",
        "    with open(name, 'wb') as f:\n",
        "      f.write(data)\n",
        "      print ('saved file', name)\n",
        "\n",
        "# use this to download a file  \n",
        "def download(path):\n",
        "  from google.colab import files\n",
        "  files.download(path)"
      ],
      "execution_count": null,
      "outputs": []
    },
    {
      "cell_type": "markdown",
      "metadata": {
        "id": "_DQuMHdqlnOW"
      },
      "source": [
        "### mounting google drive for data "
      ]
    },
    {
      "cell_type": "code",
      "metadata": {
        "id": "HvZXwBSEwx_n"
      },
      "source": [
        "# mounting google drive\n",
        "%cd ..\n",
        "from google.colab import drive\n",
        "drive.mount('/content/gdrive')"
      ],
      "execution_count": null,
      "outputs": []
    },
    {
      "cell_type": "code",
      "metadata": {
        "id": "yETsya3QxALo"
      },
      "source": [
        "# this creates a symbolic link so that now the path /content/gdrive/My\\ Drive/ is equal to /mydrive\n",
        "!ln -s /content/gdrive/My\\ Drive/ /mydrive\n",
        "!ls /mydrive"
      ],
      "execution_count": null,
      "outputs": []
    },
    {
      "cell_type": "markdown",
      "metadata": {
        "id": "u-bZ-YyfpJ4V"
      },
      "source": [
        "- From [Github](https://) copy all files from **traning** folder and paste it in your drive with folder name **weed_detection**."
      ]
    },
    {
      "cell_type": "code",
      "metadata": {
        "id": "gGzawOj5xPo1"
      },
      "source": [
        "!ls /mydrive/projets/weed_detection"
      ],
      "execution_count": null,
      "outputs": []
    },
    {
      "cell_type": "markdown",
      "metadata": {
        "id": "bEQlbn5wiimG"
      },
      "source": [
        "### Downloading dataset from kaggle\n",
        "\n",
        "Please follow the steps below to download and use kaggle data within Google Colab:\n",
        "\n",
        "1. Go to you kaggle > account, Scroll to API section and Click Expire API Token(if you have created previously)  to remove previous tokens\n",
        "\n",
        "2. Click on Create New API Token - It will download kaggle.json file on your machine.\n",
        "\n",
        "3. Now just run bellow cell.\n",
        "\n",
        "\n",
        "- Link to [Dataset](https://www.kaggle.com/ravirajsinh45/crop-and-weed-detection-data-with-bounding-boxes)"
      ]
    },
    {
      "cell_type": "code",
      "metadata": {
        "id": "mdB-AB-rh6sB"
      },
      "source": [
        "# instaling kaggle api\n",
        "!pip install kaggle"
      ],
      "execution_count": null,
      "outputs": []
    },
    {
      "cell_type": "code",
      "metadata": {
        "id": "BYiorn5ZkDyC"
      },
      "source": [
        "#upload kaggle.json file which you downloaded earlier\n",
        "from google.colab import files\n",
        "files.upload()"
      ],
      "execution_count": null,
      "outputs": []
    },
    {
      "cell_type": "code",
      "metadata": {
        "id": "_8qYtZfmkD6D"
      },
      "source": [
        "# Some changes and permission in cloud\n",
        "!mkdir -p ~/.kaggle\n",
        "!cp kaggle.json ~/.kaggle/\n",
        "!ls ~/.kaggle\n",
        "!chmod 600 /root/.kaggle/kaggle.json"
      ],
      "execution_count": null,
      "outputs": []
    },
    {
      "cell_type": "code",
      "metadata": {
        "id": "YfTScan9kEJJ"
      },
      "source": [
        "!kaggle datasets download -d ravirajsinh45/crop-and-weed-detection-data-with-bounding-boxes"
      ],
      "execution_count": null,
      "outputs": []
    },
    {
      "cell_type": "code",
      "metadata": {
        "id": "c0k5kylb1aUw"
      },
      "source": [
        "%cd darknet"
      ],
      "execution_count": null,
      "outputs": []
    },
    {
      "cell_type": "code",
      "metadata": {
        "id": "7qPu6Qvlp934"
      },
      "source": [
        "# unzip the zip file and its contents should now be in path /darknet/data/obj\n",
        "!unzip ../crop-and-weed-detection-data-with-bounding-boxes.zip -d data/"
      ],
      "execution_count": null,
      "outputs": []
    },
    {
      "cell_type": "code",
      "metadata": {
        "id": "CAPuhH1qXd-r"
      },
      "source": [
        "# uploading coustom .cfg, obj.names, obj.data, generate_train.py files from google drive\n",
        "!cp /mydrive/projects/weed_detection/crop_weed.cfg ./cfg\n",
        "!cp /mydrive/projects/weed_detection/obj.names ./data\n",
        "!cp /mydrive/projects/weed_detection/obj.data  ./data\n",
        "!cp /mydrive/projects/weed_detection/train.py ./\n"
      ],
      "execution_count": null,
      "outputs": []
    },
    {
      "cell_type": "code",
      "metadata": {
        "id": "vkEs59Aku0uM"
      },
      "source": [
        "# running python script\n",
        "!python train.py"
      ],
      "execution_count": null,
      "outputs": []
    },
    {
      "cell_type": "markdown",
      "metadata": {
        "id": "fcF0_9aeYPNW"
      },
      "source": [
        "- Downloading pretrained weights from darknet\n"
      ]
    },
    {
      "cell_type": "code",
      "metadata": {
        "id": "H8vWvYAEzTNj"
      },
      "source": [
        "# upload pretrained convolutional layer weights \n",
        "!wget http://pjreddie.com/media/files/darknet53.conv.74"
      ],
      "execution_count": null,
      "outputs": []
    },
    {
      "cell_type": "markdown",
      "metadata": {
        "id": "41EbKw2cYYn8"
      },
      "source": [
        "- press ctrl+shift+i than paste below code \n",
        "- open console and paste below code else your runtime will crash after some time\n",
        "```\n",
        "    function ClickConnect(){\n",
        "    console.log(\"Working\"); \n",
        "    document.querySelector(\"colab-toolbar-button#connect\").click() \n",
        "    }\n",
        "    setInterval(ClickConnect,60000)\n",
        "```\n",
        "\n",
        "\n"
      ]
    },
    {
      "cell_type": "markdown",
      "metadata": {
        "id": "LYC8t3iAwgvO"
      },
      "source": [
        "# Training YOLO "
      ]
    },
    {
      "cell_type": "code",
      "metadata": {
        "id": "dq4PaMVH4Rmt"
      },
      "source": [
        "# train your custom detector\n",
        "!./darknet detector train data/obj.data cfg/crop_weed.cfg darknet53.conv.74 -dont_show"
      ],
      "execution_count": null,
      "outputs": []
    },
    {
      "cell_type": "code",
      "metadata": {
        "id": "t1WcFT0io5qU"
      },
      "source": [
        "imShow('chart.png')"
      ],
      "execution_count": null,
      "outputs": []
    },
    {
      "cell_type": "markdown",
      "metadata": {
        "id": "ePOg0Q_MyRqK"
      },
      "source": [
        "# Testing"
      ]
    },
    {
      "cell_type": "code",
      "metadata": {
        "id": "ikbCZcoKcFR0"
      },
      "source": [
        "# need to set our custom cfg to test mode \n",
        "%cd cfg\n",
        "!sed -i 's/batch=32/batch=1/' crop_weed.cfg\n",
        "!sed -i 's/subdivisions=16/subdivisions=1/' crop_weed.cfg\n",
        "%cd .."
      ],
      "execution_count": null,
      "outputs": []
    },
    {
      "cell_type": "code",
      "metadata": {
        "id": "h9rVg5e2r9e5"
      },
      "source": [
        "!ls /mydrive/projects/weed_detection/test"
      ],
      "execution_count": null,
      "outputs": []
    },
    {
      "cell_type": "code",
      "metadata": {
        "id": "Zg5Qt-7lvHgW"
      },
      "source": [
        "# run your custom detector with this command (upload an image to your google drive to test, thresh flag sets accuracy that detection must be in order to show it)\n",
        "!./darknet detector test data/obj.data cfg/crop_weed.cfg /mydrive/projects/weed_detection/backup/yolov3_custom_final.weights /mydrive/projects/weed_detection/test/weed_1.jpeg  -thresh 0.3\n",
        "imShow('predictions.jpg')"
      ],
      "execution_count": null,
      "outputs": []
    },
    {
      "cell_type": "code",
      "metadata": {
        "id": "oyHTx7m8mX8v"
      },
      "source": [
        ""
      ],
      "execution_count": null,
      "outputs": []
    }
  ]
}